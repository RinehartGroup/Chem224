{
 "cells": [
  {
   "cell_type": "markdown",
   "id": "30d5b963",
   "metadata": {},
   "source": [
    "#### Chem224 - Jeffrey Rinehart - Fall 2023\n",
    "## Week 0-1: Introduction to the Course  \n",
    "### Objectives\n",
    "1. *Understand course objectives*\n",
    "2. *Learn about grading*\n",
    "\n",
    "### Key Concepts\n",
    "- **Course objectives**\n",
    "- **Grading**\n",
    "\n",
    "### Key Equations\n",
    "None"
   ]
  },
  {
   "cell_type": "markdown",
   "id": "c3bec83f",
   "metadata": {},
   "source": [
    "# Basics of Spectral Theory"
   ]
  },
  {
   "cell_type": "markdown",
   "id": "e71b0d50",
   "metadata": {},
   "source": [
    "## Introduction"
   ]
  },
  {
   "cell_type": "markdown",
   "id": "1e0b2dc1",
   "metadata": {},
   "source": [
    "This notebook serves as course notes for a lecture that discusses the connection between the spectral theory \n",
    "    of mathematics and applications in quantum mechanics. We will start with the basics of spectral theory."
   ]
  },
  {
   "cell_type": "markdown",
   "id": "963bf5e6",
   "metadata": {},
   "source": [
    "## Section 1: Basics of Spectral Theory"
   ]
  },
  {
   "cell_type": "markdown",
   "id": "31e7eefd",
   "metadata": {},
   "source": [
    "### 1.1 Hilbert Spaces"
   ]
  },
  {
   "cell_type": "markdown",
   "id": "1c61ffcd",
   "metadata": {},
   "source": [
    "The Hilbert space is defined as $$\\mathcal{H} = \\{ |\\psi\\rangle : \\langle \\psi | \\psi \\rangle < \\infty \\}$$"
   ]
  },
  {
   "cell_type": "markdown",
   "id": "5f2fe61d",
   "metadata": {},
   "source": [
    "### 1.2 Self-Adjoint Operators"
   ]
  },
  {
   "cell_type": "markdown",
   "id": "a5b92a72",
   "metadata": {},
   "source": [
    "The self-adjoint operators satisfy the properties \\(A = A^\\dagger\\) and \\(\\langle \\psi | A | \\phi \\rangle = \\langle \\phi | A | \\psi \\rangle^*\\)."
   ]
  },
  {
   "cell_type": "markdown",
   "id": "6635c825",
   "metadata": {},
   "source": [
    "### 1.3 Eigenvalues and Eigenvectors"
   ]
  },
  {
   "cell_type": "markdown",
   "id": "58d21c93",
   "metadata": {},
   "source": [
    "Eigenvalues and eigenvectors can be mathematically formulated as \\(A | \\psi \\rangle = \\lambda | \\psi \\rangle\\)."
   ]
  },
  {
   "cell_type": "markdown",
   "id": "22033648",
   "metadata": {},
   "source": [
    "### 1.4 Example: 1s Orbital of Hydrogen Atom"
   ]
  },
  {
   "cell_type": "markdown",
   "id": "b5bf2343",
   "metadata": {},
   "source": [
    "The wavefunction for the 1s orbital is given by \\(\\psi_{1s}(r) = \\sqrt{\\frac{1}{\\pi a_0^3}} e^{-r/a_0}\\)."
   ]
  },
  {
   "cell_type": "markdown",
   "id": "001d698e",
   "metadata": {},
   "source": [
    "### 1.5 Example: p Orbital with \\( m_l = -1 \\)"
   ]
  },
  {
   "cell_type": "markdown",
   "id": "93cf9daf",
   "metadata": {},
   "source": [
    "The wavefunction for a \\( p \\) orbital with \\( m_l = -1 \\) is complex and provides an excellent example to demonstrate the concept of bras and kets not being the same due to the complex conjugate."
   ]
  },
  {
   "cell_type": "markdown",
   "id": "286bf7a4",
   "metadata": {},
   "source": [
    "## Expanded Explanation: Hilbert Spaces and Valid Wave Functions"
   ]
  },
  {
   "cell_type": "markdown",
   "id": "9909871f",
   "metadata": {},
   "source": [
    "### What is a Hilbert Space?"
   ]
  },
  {
   "cell_type": "markdown",
   "id": "ef3403bd",
   "metadata": {},
   "source": [
    "A Hilbert space \\( \\mathcal{H} \\) is a complete inner product space. In simple terms, a Hilbert space is a vector space equipped with an inner product—often denoted as \\( \\langle \\cdot | \\cdot \n",
    "angle \\)—that is complete in the sense that every Cauchy sequence in \\( \\mathcal{H} \\) converges to a limit in \\( \\mathcal{H} \\)."
   ]
  },
  {
   "cell_type": "markdown",
   "id": "94b62b71",
   "metadata": {},
   "source": [
    "### Inner Product"
   ]
  },
  {
   "cell_type": "markdown",
   "id": "b6036207",
   "metadata": {},
   "source": [
    "The inner product \\( \\langle \\psi | \\phi \\rangle \\) between two elements \\( |\\psi\\rangle \\) and \\( |\\phi\\rangle \\) in \\( \\mathcal{H} \\) must satisfy specific properties like linearity, conjugate symmetry, and positive-definiteness. Mathematically, this is defined as:"
   ]
  },
  {
   "cell_type": "markdown",
   "id": "1e634027",
   "metadata": {},
   "source": [
    "\\[ \\langle \\psi | \\phi \\rangle = \\int \\psi^*(x) \\phi(x) dx \\]"
   ]
  },
  {
   "cell_type": "markdown",
   "id": "24ea69df",
   "metadata": {},
   "source": [
    "### Completeness"
   ]
  },
  {
   "cell_type": "markdown",
   "id": "72e6af41",
   "metadata": {},
   "source": [
    "The 'complete' part is crucial because it ensures that the space contains all its limit points, making it a 'good' space for analysis and differential equations."
   ]
  },
  {
   "cell_type": "markdown",
   "id": "d676aca8",
   "metadata": {},
   "source": [
    "### Hilbert Spaces in Quantum Mechanics"
   ]
  },
  {
   "cell_type": "markdown",
   "id": "3ead5aff",
   "metadata": {},
   "source": [
    "In quantum mechanics, the Hilbert space plays a crucial role as it forms the stage on which quantum states exist and evolve. Every quantum state \\( |\\psi\n",
    "angle \\) can be thought of as a vector in some Hilbert space \\( \\mathcal{H} \\)."
   ]
  },
  {
   "cell_type": "markdown",
   "id": "fef178b4",
   "metadata": {},
   "source": [
    "### Subset of Valid Wave Functions"
   ]
  },
  {
   "cell_type": "markdown",
   "id": "731abca3",
   "metadata": {},
   "source": [
    "Not all elements of a Hilbert space are physically meaningful wave functions. A valid wave function \\( \\psi(x) \\) in quantum mechanics must be square-integrable, i.e.,\n",
    "    \\[ \\int_{-\\infty}^{\\infty} |\\psi(x)|^2 dx < \\infty \\]\n",
    "    This requirement is necessary for the probabilistic interpretation of quantum mechanics, particularly for the normalization condition. Hence, the set of valid wave functions forms a subset of the Hilbert space \\( \\mathcal{H} \\)."
   ]
  },
  {
   "cell_type": "markdown",
   "id": "b38a1c5f",
   "metadata": {},
   "source": [
    "### Square-Integrability and Complex Wavefunctions"
   ]
  },
  {
   "cell_type": "markdown",
   "id": "c04a124a",
   "metadata": {},
   "source": [
    "For complex wavefunctions, the square-integrability condition becomes more nuanced. The condition\n",
    "    \\[ \\int_{-\\infty}^{\\infty} |\\psi(x)|^2 \\, dx < \\infty \\]\n",
    "    still holds, but here \\(|\\psi(x)|\\) is the magnitude of the complex number \\(\\psi(x)\\), defined as \\(\\sqrt{\\psi(x)^* \\psi(x)}\\), where \\(\\psi(x)^*\\) is the complex conjugate of \\(\\psi(x)\\).\n",
    "    So, for a complex wavefunction \\(\\psi(x)\\), the square-integrability condition ensures that both the real and imaginary parts of \\(\\psi(x)\\) are bounded and lead to finite probabilities when squared and summed:\n",
    "    \\[ \\int_{-\\infty}^{\\infty} (\\text{Re}[\\psi(x)]^2 + \\text{Im}[\\psi(x)]^2) \\, dx < \\infty \\]\n",
    "    This is crucial for the probabilistic interpretation of quantum mechanics, as the absolute square \\(|\\psi(x)|^2\\) is often interpreted as a probability density."
   ]
  }
 ],
 "metadata": {
  "kernelspec": {
   "display_name": "env",
   "language": "python",
   "name": "python3"
  },
  "language_info": {
   "name": "python",
   "version": "3.11.5"
  }
 },
 "nbformat": 4,
 "nbformat_minor": 5
}
