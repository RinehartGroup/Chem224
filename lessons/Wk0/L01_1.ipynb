{
 "cells": [
  {
   "cell_type": "markdown",
   "id": "c15aef57",
   "metadata": {},
   "source": [
    "#### Chem224 - Jeffrey Rinehart - Fall 2023\n",
    "## Week 0-1: Introduction to the Course  \n",
    "### Objectives\n",
    "1. *Understand course objectives*\n",
    "2. *Learn about grading*\n",
    "\n",
    "### Key Concepts\n",
    "- **Course objectives**\n",
    "- **Grading**\n",
    "\n",
    "### Key Equations\n",
    "None"
   ]
  }
 ],
 "metadata": {},
 "nbformat": 4,
 "nbformat_minor": 5
}