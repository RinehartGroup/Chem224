{
    "cells": [
        {
            "cell_type": "markdown",
            "id": "2cc9405a",
            "metadata": {},
            "source": [
                "#  Quantum Mechanics, Hilbert Space, and Atomic Orbitals"
            ]
        },
        {
            "cell_type": "markdown",
            "id": "b3997f99",
            "metadata": {},
            "source": [
                "## (1) Hilbert Space: the natural home of the wavefunction"
            ]
        },
        {
            "cell_type": "markdown",
            "id": "4229237a",
            "metadata": {},
            "source": [
                "This notebook serves as course notes for a lecture that discusses the connection between the spectral theory \n",
                "    of mathematics and applications in quantum mechanics. We will start with the basics of spectral theory."
            ]
        },
        {
            "cell_type": "markdown",
            "id": "831e2450",
            "metadata": {},
            "source": [
                "## Section 1: Basics of Spectral Theory"
            ]
        },
        {
            "cell_type": "markdown",
            "id": "2278f530",
            "metadata": {},
            "source": [
                "### 1.1 Hilbert Spaces"
            ]
        },
        {
            "cell_type": "markdown",
            "id": "7e58a9e9",
            "metadata": {},
            "source": [
                "Definition: $\\mathcal{H} = \\{ |\\psi\\rangle : \\langle \\psi | \\psi \\rangle < \\infty \\}$"
            ]
        },
        {
            "cell_type": "markdown",
            "id": "44fa3317",
            "metadata": {},
            "source": [
                "### 1.2 Self-Adjoint Operators"
            ]
        },
        {
            "cell_type": "markdown",
            "id": "e8f92314",
            "metadata": {},
            "source": [
                "The self-adjoint operators satisfy the properties \\(A = A^\\dagger\\) and \\(\\langle \\psi | A | \\phi \\rangle = \\langle \\phi | A | \\psi \\rangle^*\\)."
            ]
        },
        {
            "cell_type": "markdown",
            "id": "5f9ee8ba",
            "metadata": {},
            "source": [
                "### 1.3 Eigenvalues and Eigenvectors"
            ]
        },
        {
            "cell_type": "markdown",
            "id": "f51dedd0",
            "metadata": {},
            "source": [
                "Eigenvalues and eigenvectors can be mathematically formulated as \\(A | \\psi \\rangle = \\lambda | \\psi \\rangle\\)."
            ]
        },
        {
            "cell_type": "markdown",
            "id": "afc15abd",
            "metadata": {},
            "source": [
                "### 1.4 Example: 1s Orbital of Hydrogen Atom"
            ]
        },
        {
            "cell_type": "markdown",
            "id": "acf0ea7f",
            "metadata": {},
            "source": [
                "The wavefunction for the 1s orbital is given by \\(\\psi_{1s}(r) = \\sqrt{\\frac{1}{\\pi a_0^3}} e^{-r/a_0}\\)."
            ]
        },
        {
            "cell_type": "markdown",
            "id": "229c883e",
            "metadata": {},
            "source": [
                "### 1.5 Example: p Orbital with \$m_l = -1 \\)"
            ]
        },
        {
            "cell_type": "markdown",
            "id": "e2e6e128",
            "metadata": {},
            "source": [
                "The wavefunction for a \$p \\) orbital with \$m_l = -1 \\) is complex and provides an excellent example to demonstrate the concept of bras and kets not being the same due to the complex conjugate."
            ]
        },
        {
            "cell_type": "markdown",
            "id": "1de5e466",
            "metadata": {},
            "source": [
                "## Expanded Explanation: Hilbert Spaces and Valid Wave Functions"
            ]
        },
        {
            "cell_type": "markdown",
            "id": "3151877c",
            "metadata": {},
            "source": [
                "### What is a Hilbert Space?"
            ]
        },
        {
            "cell_type": "markdown",
            "id": "a9658954",
            "metadata": {},
            "source": [
                "A Hilbert space \$\\mathcal{H} \\) is a complete inner product space. In simple terms, a Hilbert space is a vector space equipped with an inner product—often denoted as \$\\langle \\cdot | \\cdot \n",
                "angle \\)—that is complete in the sense that every Cauchy sequence in \$\\mathcal{H} \\) converges to a limit in \$\\mathcal{H} \\)."
            ]
        },
        {
            "cell_type": "markdown",
            "id": "6c68445f",
            "metadata": {},
            "source": [
                "### Inner Product"
            ]
        },
        {
            "cell_type": "markdown",
            "id": "1d070fdf",
            "metadata": {},
            "source": [
                "The inner product \$\\langle \\psi | \\phi \\rangle \\) between two elements \$|\\psi\\rangle \\) and \$|\\phi\\rangle \\) in \$\\mathcal{H} \\) must satisfy specific properties like linearity, conjugate symmetry, and positive-definiteness. Mathematically, this is defined as:"
            ]
        },
        {
            "cell_type": "markdown",
            "id": "f8f08123",
            "metadata": {},
            "source": [
                "\\[ \\langle \\psi | \\phi \\rangle = \\int \\psi^*(x) \\phi(x) dx \\]"
            ]
        },
        {
            "cell_type": "markdown",
            "id": "ac71204e",
            "metadata": {},
            "source": [
                "### Completeness"
            ]
        },
        {
            "cell_type": "markdown",
            "id": "dc1a9932",
            "metadata": {},
            "source": [
                "The 'complete' part is crucial because it ensures that the space contains all its limit points, making it a 'good' space for analysis and differential equations."
            ]
        },
        {
            "cell_type": "markdown",
            "id": "929a304b",
            "metadata": {},
            "source": [
                "### Hilbert Spaces in Quantum Mechanics"
            ]
        },
        {
            "cell_type": "markdown",
            "id": "17a5da47",
            "metadata": {},
            "source": [
                "In quantum mechanics, the Hilbert space plays a crucial role as it forms the stage on which quantum states exist and evolve. Every quantum state \$|\\psi\n",
                "angle \\) can be thought of as a vector in some Hilbert space \$\\mathcal{H} \\)."
            ]
        },
        {
            "cell_type": "markdown",
            "id": "f26cbfdc",
            "metadata": {},
            "source": [
                "### Subset of Valid Wave Functions"
            ]
        },
        {
            "cell_type": "markdown",
            "id": "94886e51",
            "metadata": {},
            "source": [
                "Not all elements of a Hilbert space are physically meaningful wave functions. A valid wave function \$\\psi(x) \\) in quantum mechanics must be square-integrable, i.e.,\n",
                "    \\[ \\int_{-\\infty}^{\\infty} |\\psi(x)|^2 dx < \\infty \\]\n",
                "    This requirement is necessary for the probabilistic interpretation of quantum mechanics, particularly for the normalization condition. Hence, the set of valid wave functions forms a subset of the Hilbert space \$\\mathcal{H} \\)."
            ]
        },
        {
            "cell_type": "markdown",
            "id": "3b743eaa",
            "metadata": {},
            "source": [
                "### Square-Integrability and Complex Wavefunctions"
            ]
        },
        {
            "cell_type": "markdown",
            "id": "bbaaeddd",
            "metadata": {},
            "source": [
                "For complex wavefunctions, the square-integrability condition becomes more nuanced. The condition\n",
                "    \\[ \\int_{-\\infty}^{\\infty} |\\psi(x)|^2 \\, dx < \\infty \\]\n",
                "    still holds, but here \\(|\\psi(x)|\\) is the magnitude of the complex number \\(\\psi(x)\\), defined as \\(\\sqrt{\\psi(x)^* \\psi(x)}\\), where \\(\\psi(x)^*\\) is the complex conjugate of \\(\\psi(x)\\).\n",
                "    So, for a complex wavefunction \\(\\psi(x)\\), the square-integrability condition ensures that both the real and imaginary parts of \\(\\psi(x)\\) are bounded and lead to finite probabilities when squared and summed:\n",
                "    \\[ \\int_{-\\infty}^{\\infty} (\\text{Re}[\\psi(x)]^2 + \\text{Im}[\\psi(x)]^2) \\, dx < \\infty \\]\n",
                "    This is crucial for the probabilistic interpretation of quantum mechanics, as the absolute square \\(|\\psi(x)|^2\\) is often interpreted as a probability density."
            ]
        }
    ],
    "metadata": {
        "kernelspec": {
            "display_name": "env",
            "language": "python",
            "name": "python3"
        },
        "language_info": {
            "name": "python",
            "version": "3.11.5"
        }
    },
    "nbformat": 4,
    "nbformat_minor": 5
}
