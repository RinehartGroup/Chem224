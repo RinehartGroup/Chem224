{
    "cells": [
        {
            "cell_type": "markdown",
            "id": "2cc9405a",
            "metadata": {},
            "source": [
                "# Basics of Spectral Theory"
            ]
        },
        {
            "cell_type": "markdown",
            "id": "aa1eec2b",
            "metadata": {},
            "source": [
                "## Introduction"
            ]
        },
        {
            "cell_type": "markdown",
            "id": "4229237a",
            "metadata": {},
            "source": [
                "This notebook serves as course notes for a lecture that discusses the connection between the spectral theory \n",
                "    of mathematics and applications in quantum mechanics. We will start with the basics of spectral theory."
            ]
        },
        {
            "cell_type": "markdown",
            "id": "831e2450",
            "metadata": {},
            "source": [
                "## Section 1: Basics of Spectral Theory"
            ]
        },
        {
            "cell_type": "markdown",
            "id": "2278f530",
            "metadata": {},
            "source": [
                "### 1.1 Hilbert Spaces"
            ]
        },
        {
            "cell_type": "markdown",
            "id": "7e58a9e9",
            "metadata": {},
            "source": [
                "The Hilbert space is defined as \\(\\mathcal{H} = \\{ |\\psi\\rangle : \\langle \\psi | \\psi \\rangle < \\infty \\}\\)."
            ]
        },
        {
            "cell_type": "markdown",
            "id": "44fa3317",
            "metadata": {},
            "source": [
                "### 1.2 Self-Adjoint Operators"
            ]
        },
        {
            "cell_type": "markdown",
            "id": "e8f92314",
            "metadata": {},
            "source": [
                "The self-adjoint operators satisfy the properties \\(A = A^\\dagger\\) and \\(\\langle \\psi | A | \\phi \\rangle = \\langle \\phi | A | \\psi \\rangle^*\\)."
            ]
        },
        {
            "cell_type": "markdown",
            "id": "5f9ee8ba",
            "metadata": {},
            "source": [
                "### 1.3 Eigenvalues and Eigenvectors"
            ]
        },
        {
            "cell_type": "markdown",
            "id": "f51dedd0",
            "metadata": {},
            "source": [
                "Eigenvalues and eigenvectors can be mathematically formulated as \\(A | \\psi \\rangle = \\lambda | \\psi \\rangle\\)."
            ]
        },
        {
            "cell_type": "markdown",
            "id": "afc15abd",
            "metadata": {},
            "source": [
                "### 1.4 Example: 1s Orbital of Hydrogen Atom"
            ]
        },
        {
            "cell_type": "markdown",
            "id": "acf0ea7f",
            "metadata": {},
            "source": [
                "The wavefunction for the 1s orbital is given by \\(\\psi_{1s}(r) = \\sqrt{\\frac{1}{\\pi a_0^3}} e^{-r/a_0}\\)."
            ]
        },
        {
            "cell_type": "markdown",
            "id": "229c883e",
            "metadata": {},
            "source": [
                "### 1.5 Example: p Orbital with \$m_l = -1 \\)"
            ]
        },
        {
            "cell_type": "markdown",
            "id": "e2e6e128",
            "metadata": {},
            "source": [
                "The wavefunction for a \$p \\) orbital with \$m_l = -1 \\) is complex and provides an excellent example to demonstrate the concept of bras and kets not being the same due to the complex conjugate."
            ]
        }
    ],
    "metadata": {
        "kernelspec": {
            "display_name": "env",
            "language": "python",
            "name": "python3"
        },
        "language_info": {
            "name": "python",
            "version": "3.11.5"
        }
    },
    "nbformat": 4,
    "nbformat_minor": 5
}
