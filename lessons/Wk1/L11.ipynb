{
 "cells": [
  {
   "cell_type": "markdown",
   "id": "45c0fcb8",
   "metadata": {},
   "source": [
    "#### Chem224 - Jeffrey Rinehart - Fall 2023\n",
    "## Week 1-1: Introduction to Point Groups  \n",
    "### Objectives\n",
    "1. *Understand basic symmetry elements*\n",
    "2. *Learn point group notation*\n",
    "\n",
    "### Key Concepts\n",
    "- **Symmetry element**\n",
    "- **Point group**\n",
    "\n",
    "### Key Equations\n",
    "Eq1"
   ]
  }
 ],
 "metadata": {},
 "nbformat": 4,
 "nbformat_minor": 5
}