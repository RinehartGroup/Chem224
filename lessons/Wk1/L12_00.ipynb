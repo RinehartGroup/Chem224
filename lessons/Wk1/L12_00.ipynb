{
 "cells": [
  {
   "cell_type": "code",
   "execution_count": 1,
   "metadata": {},
   "outputs": [
    {
     "ename": "ModuleNotFoundError",
     "evalue": "No module named 'nbformat'",
     "output_type": "error",
     "traceback": [
      "\u001b[1;31m---------------------------------------------------------------------------\u001b[0m",
      "\u001b[1;31mModuleNotFoundError\u001b[0m                       Traceback (most recent call last)",
      "\u001b[1;32mc:\\Users\\Jeff\\Documents\\Github\\Chem224\\lessons\\Wk1\\L12_00.ipynb Cell 1\u001b[0m line \u001b[0;36m1\n\u001b[1;32m----> <a href='vscode-notebook-cell:/c%3A/Users/Jeff/Documents/Github/Chem224/lessons/Wk1/L12_00.ipynb#W0sZmlsZQ%3D%3D?line=0'>1</a>\u001b[0m \u001b[39mimport\u001b[39;00m \u001b[39mnbformat\u001b[39;00m \u001b[39mas\u001b[39;00m \u001b[39mnbformat\u001b[39;00m \u001b[39m# pip install nbformat\u001b[39;00m\n\u001b[0;32m      <a href='vscode-notebook-cell:/c%3A/Users/Jeff/Documents/Github/Chem224/lessons/Wk1/L12_00.ipynb#W0sZmlsZQ%3D%3D?line=2'>3</a>\u001b[0m \u001b[39m# Create / update metadata\u001b[39;00m\n\u001b[0;32m      <a href='vscode-notebook-cell:/c%3A/Users/Jeff/Documents/Github/Chem224/lessons/Wk1/L12_00.ipynb#W0sZmlsZQ%3D%3D?line=3'>4</a>\u001b[0m metadata \u001b[39m=\u001b[39m {\n\u001b[0;32m      <a href='vscode-notebook-cell:/c%3A/Users/Jeff/Documents/Github/Chem224/lessons/Wk1/L12_00.ipynb#W0sZmlsZQ%3D%3D?line=4'>5</a>\u001b[0m     \u001b[39m'\u001b[39m\u001b[39mname\u001b[39m\u001b[39m'\u001b[39m: \u001b[39m'\u001b[39m\u001b[39mWeek 1-2: Molecules to Symmetry; Symmetry to Groups; Groups to Molecules\u001b[39m\u001b[39m'\u001b[39m,\n\u001b[0;32m      <a href='vscode-notebook-cell:/c%3A/Users/Jeff/Documents/Github/Chem224/lessons/Wk1/L12_00.ipynb#W0sZmlsZQ%3D%3D?line=5'>6</a>\u001b[0m     \u001b[39m'\u001b[39m\u001b[39mdate\u001b[39m\u001b[39m'\u001b[39m: \u001b[39m'\u001b[39m\u001b[39m2021-10-04\u001b[39m\u001b[39m'\u001b[39m,\n\u001b[1;32m   (...)\u001b[0m\n\u001b[0;32m     <a href='vscode-notebook-cell:/c%3A/Users/Jeff/Documents/Github/Chem224/lessons/Wk1/L12_00.ipynb#W0sZmlsZQ%3D%3D?line=37'>38</a>\u001b[0m     \u001b[39m'\u001b[39m\u001b[39mtags\u001b[39m\u001b[39m'\u001b[39m: [\u001b[39m'\u001b[39m\u001b[39mgroup theory\u001b[39m\u001b[39m'\u001b[39m,\u001b[39m'\u001b[39m\u001b[39msymmetry\u001b[39m\u001b[39m'\u001b[39m]\n\u001b[0;32m     <a href='vscode-notebook-cell:/c%3A/Users/Jeff/Documents/Github/Chem224/lessons/Wk1/L12_00.ipynb#W0sZmlsZQ%3D%3D?line=38'>39</a>\u001b[0m }\n",
      "\u001b[1;31mModuleNotFoundError\u001b[0m: No module named 'nbformat'"
     ]
    }
   ],
   "source": [
    "import nbformat as nbformat # pip install nbformat\n",
    "\n",
    "# Create / update metadata\n",
    "metadata = {\n",
    "    'name': 'Week 1-2: Molecules to Symmetry; Symmetry to Groups; Groups to Molecules',\n",
    "    'date': '2021-10-04',\n",
    "    'week': '1',\n",
    "    'lectureNum': '2',\n",
    "    'authors': [\n",
    "        {'name': 'Jeffrey Rinehart', 'email': 'jrinehart@ucsd.edu'},\n",
    "        {'name': 'Philip Bunting', 'email': 'pbunting@ucsd.edu'},\n",
    "    ],\n",
    "    'institution': 'University of California, San Diego',\n",
    "    'course': 'Chem 224: Symmetry Methods in Inorganic Spectroscopy',\n",
    "    'license': 'MIT',\n",
    "    'language_info': {\n",
    "        'name': 'python',\n",
    "        'version': '3.11',\n",
    "        'mimetype': 'text/x-python'\n",
    "    },\n",
    "    'kernelspec': {\n",
    "        'name': 'python3',\n",
    "        'display_name': 'Python 3'\n",
    "    },\n",
    "    'toc': {\n",
    "        'base_numbering': 1,\n",
    "        'nav_menu': {},\n",
    "        'number_sections': True,\n",
    "        'sideBar': True,\n",
    "        'skip_h1_title': False,\n",
    "        'title_cell': 'Lecture Topics',\n",
    "        'title_sidebar': 'Contents',\n",
    "        'toc_cell': False,\n",
    "        'toc_position': {},\n",
    "        'toc_section_display': True,\n",
    "        'toc_window_display': False\n",
    "    },\n",
    "    'tags': ['group theory','symmetry']\n",
    "}\n",
    "\n",
    "# Read, update and write notebook\n",
    "with open(\"L12_00.ipynb\", \"r\") as f:\n",
    "    nb = nbformat.read(f, as_version=4)\n",
    "\n",
    "nb.metadata.update(metadata)\n",
    "\n",
    "with open(\"L12_00.ipynb\", \"w\") as f:\n",
    "    nbformat.write(nb, f)"
   ]
  },
  {
   "cell_type": "markdown",
   "metadata": {},
   "source": [
    "Chem224 - Jeffrey Rinehart - Fall 2023\n",
    "\n",
    "## Week 1-2: Molecules to Symmetry; Symmetry to Groups; Groups to Molecules\n",
    "\n",
    "nbconvert makes the title and date from the metadata in the ipynb file. If there is no metadata, the file name becomes the title an the current date is used. \n",
    "\n",
    "To edit the .ipynb file metadata, open in a text editor (or right click on the file in VS Code, select \"Open with\", then select the built in text editor). There should be a top-level field called \"metadata\" (note: not the \"metadata\" field in each of the \"cells\" objects). Edit or add the \"title\" and \"date\" fields, e.g.\n",
    "\n",
    "```json\n",
    " \"metadata\": {\n",
    "  \"title\": \"Template Lecture\",\n",
    "  \"date\": \"2023-9-29\",\n",
    "  ...\n",
    " }\n",
    "```\n",
    "\n",
    "## Adding subheadings prior to the first main heading\n",
    "\n",
    "With nbconvert, subheadings (lines starting with more than one `#`) get formatted as subsections of section 0.\n",
    "\n",
    "Objectives\n",
    "\n",
    "1. *Understand objectives*\n",
    "2. *Learn material*"
   ]
  },
  {
   "cell_type": "markdown",
   "metadata": {},
   "source": [
    "# Section Headings\n",
    "\n",
    "`#` makes an automatically numbered section heading.\n",
    "\n",
    "## Subsection Headings\n",
    "\n",
    "`##` makes an automatically numbered subsection heading.\n",
    "\n",
    "### Subsubsection Headings\n",
    "\n",
    "`###` makes an automatically numbered subsubsection heading.\n",
    "\n",
    "#### Subsubsubsection Headings\n",
    "\n",
    "Numbering stops at `####`. The text of these sections appear to the right of the bolded subsubsubsection heading rather than having a line break.\n"
   ]
  },
  {
   "cell_type": "markdown",
   "metadata": {},
   "source": [
    "# LaTeX\n",
    "\n",
    "## In line LaTeX\n",
    "\n",
    "- In line LaTeX is surrounded by single dollar signs, e.g. `$\\frac{1}{2}$` becomes $\\frac{1}{2}$.\n",
    "- Spaces between the dollar signs and the LaTeX, e.g. `$ \\frac{1}{2} $` cause errors in nbconvert.\n",
    "\n",
    "## Block LaTeX\n",
    "\n",
    "- Block LaTeX is surrounded by double dollar signs, e.g. `$$\\frac{1}{2}$$` becomes $$\\frac{1}{2}$$\n",
    "- This also works for multi-line LaTeX, e.g.\n",
    "\n",
    "    ```latex\n",
    "    $$\n",
    "    | \\psi \\rangle = \\begin{pmatrix}\n",
    "        a_1 \\\\\n",
    "        a_2 \\\\\n",
    "        \\vdots \\\\\n",
    "        a_n\n",
    "    \\end{pmatrix}\n",
    "    $$\n",
    "    ```\n",
    "\n",
    "    becomes\n",
    "\n",
    "    $$\n",
    "    | \\psi \\rangle = \\begin{pmatrix}\n",
    "        a_1 \\\\\n",
    "        a_2 \\\\\n",
    "        \\vdots \\\\\n",
    "        a_n\n",
    "    \\end{pmatrix}\n",
    "    $$"
   ]
  },
  {
   "cell_type": "markdown",
   "metadata": {},
   "source": [
    "# Images\n",
    "\n",
    "## Images in Different Directories\n",
    "I'm having trouble getting images to show in the pdfs or html pages created by nbconvert. Inserting images using the `![]()` syntax and relative paths works fine for the notebook running in VS Code, but produces broken pdfs with nbconvert. The html files from nbconvert and mkdocs pages work fine with relative paths.\n",
    "\n",
    "`![XPS](../../images/Capture.PNG)` works in the notebook and with mkdocs, but not nbconert pdf files.\n",
    "\n",
    "Does HTML work?\n",
    "\n",
    "<div align=\"center\">\n",
    "  <img src=\"../../images/Capture.PNG\" alt=\"XPS\" style=\"height:200px;\">\n",
    "</div>\n",
    "\n",
    "## Images in the Same Directory\n",
    "\n",
    "`![XPS](Capture.PNG)`"
   ]
  },
  {
   "cell_type": "markdown",
   "metadata": {},
   "source": [
    "# Code\n",
    "\n",
    "TODO\n",
    "\n",
    "# nbconvert\n",
    "\n",
    "TODO\n",
    "\n",
    "# pandoc\n",
    "\n",
    "TODO"
   ]
  },
  {
   "cell_type": "markdown",
   "metadata": {},
   "source": []
  }
 ],
 "metadata": {
  "authors": {
   "email": "jrinehart@ucsd.edu",
   "name": "Jeffrey Rinehart"
  },
  "course": {
   "code": "CHEM224",
   "name": "Symmetry Methods in Inorganic Spectroscopy"
  },
  "date": "2021-10-04",
  "institution": "University of California, San Diego",
  "kernelspec": {
   "display_name": "Python 3",
   "name": "python3"
  },
  "language_info": {
   "mimetype": "text/x-python",
   "name": "python",
   "version": "3.11"
  },
  "lectureNum": "2",
  "license": "MIT",
  "name": "Week 1-2: Molecules to Symmetry; Symmetry to Groups; Groups to Molecules",
  "tags": [
   "group theory",
   "symmetry"
  ],
  "title": "L01",
  "toc": {
   "base_numbering": 1,
   "nav_menu": {},
   "number_sections": true,
   "sideBar": true,
   "skip_h1_title": false,
   "title_cell": "Lecture Topics",
   "title_sidebar": "Contents",
   "toc_cell": false,
   "toc_position": {},
   "toc_section_display": true,
   "toc_window_display": false
  },
  "week": "1"
 },
 "nbformat": 4,
 "nbformat_minor": 2
}
