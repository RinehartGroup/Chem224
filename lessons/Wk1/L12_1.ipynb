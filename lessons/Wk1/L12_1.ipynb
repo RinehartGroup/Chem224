{
 "cells": [
  {
   "cell_type": "markdown",
   "id": "88d4243e",
   "metadata": {},
   "source": [
    "#### Chem224 - Jeffrey Rinehart - Fall 2023\n",
    "## Week 1-2: Molecular Orbital Theory  \n",
    "### Objectives\n",
    "1. *Understand MO theory basics*\n",
    "2. *Apply to simple molecules*\n",
    "\n",
    "### Key Concepts\n",
    "- **Molecular orbital**\n",
    "- **Bonding**\n",
    "\n",
    "### Key Equations\n",
    "Eq2\n",
    "Eq3"
   ]
  }
 ],
 "metadata": {},
 "nbformat": 4,
 "nbformat_minor": 5
}