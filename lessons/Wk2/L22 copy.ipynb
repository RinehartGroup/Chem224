{
 "cells": [
  {
   "cell_type": "code",
   "execution_count": 9,
   "metadata": {},
   "outputs": [
    {
     "name": "stdout",
     "output_type": "stream",
     "text": [
      "Metadata updated successfully.\n"
     ]
    }
   ],
   "source": [
    "import nbformat as nbformat # pip install nbformat\n",
    "import os\n",
    "\n",
    "# Create / update metadata\n",
    "metadata = {\n",
    "    'name': 'Week 2-1: Character Tables and Molecular Vibrational Modes',\n",
    "    'date': '2021-10-10',\n",
    "    'week': '2',\n",
    "    'lectureNum': '1',\n",
    "    'authors': {\n",
    "        'name': 'Jeffrey Rinehart', \n",
    "        'email': 'jrinehart@ucsd.edu'\n",
    "    },\n",
    "    'institution': 'University of California, San Diego',\n",
    "    'course': {\n",
    "        'code': 'CHEM224', \n",
    "        'name': 'Symmetry Methods in Inorganic Spectroscopy',\n",
    "        'quarter': 'Fall 2023'\n",
    "    },\n",
    "    'license': 'MIT',\n",
    "    'language_info': {\n",
    "        'name': 'python',\n",
    "        'version': '3.11',\n",
    "        'mimetype': 'text/x-python'\n",
    "    },\n",
    "    'kernelspec': {\n",
    "        'name': 'python3',\n",
    "        'display_name': 'Python 3'\n",
    "    },\n",
    "    'toc': {\n",
    "        'base_numbering': 1,\n",
    "        'nav_menu': {},\n",
    "        'number_sections': True,\n",
    "        'sideBar': True,\n",
    "        'skip_h1_title': False,\n",
    "        'title_cell': 'Lecture Topics',\n",
    "        'title_sidebar': 'Contents',\n",
    "        'toc_cell': False,\n",
    "        'toc_position': {},\n",
    "        'toc_section_display': True,\n",
    "        'toc_window_display': False\n",
    "    },\n",
    "    'tags': ['group theory','symmetry']\n",
    "}\n",
    "\n",
    "# Specify notebook path\n",
    "notebook_path = \"L21.ipynb\"\n",
    "\n",
    "# Ask for user confirmation\n",
    "user_input = input(f\"Do you want to update the metadata for the notebook {notebook_path}? (y/n): \")\n",
    "\n",
    "if user_input.lower() == 'y':\n",
    "    # Read the notebook\n",
    "    with open(notebook_path, \"r\") as f:\n",
    "        nb = nbformat.read(f, as_version=4)\n",
    "\n",
    "    # Update metadata\n",
    "    nb.metadata.update(metadata)\n",
    "\n",
    "    # Write the notebook back\n",
    "    with open(notebook_path, \"w\") as f:\n",
    "        nbformat.write(nb, f)\n",
    "\n",
    "    print(\"Metadata updated successfully.\")\n",
    "else:\n",
    "    print(\"Metadata update canceled.\")\n"
   ]
  },
  {
   "cell_type": "code",
   "execution_count": 7,
   "metadata": {},
   "outputs": [
    {
     "name": "stdout",
     "output_type": "stream",
     "text": [
      "Metadata for the notebook:\n",
      " \n",
      "Item\t\t\tValue\n",
      "----\t\t\t-----\n",
      "Name\t\t\t Week 2-1: Molecules to Symmetry; Symmetry to Groups; Groups to Molecules\n",
      "Date\t\t\t 2021-10-10\n",
      "Week\t\t\t 2\n",
      "Lecture Number\t\t 1\n",
      "Authors\t\t\t {'email': 'jrinehart@ucsd.edu', 'name': 'Jeffrey Rinehart'}\n",
      "Institution\t\t University of California, San Diego\n",
      "Course\t\t\t {'code': 'CHEM224', 'name': 'Symmetry Methods in Inorganic Spectroscopy', 'quarter': 'Fall 2023'}\n",
      "License\t\t\t MIT\n",
      "Language Info\t\t {'mimetype': 'text/x-python', 'name': 'python', 'version': '3.11'}\n",
      "Kernelspec\t\t {'display_name': 'Python 3', 'name': 'python3'}\n",
      "Table of Contents\t {'base_numbering': 1, 'nav_menu': {}, 'number_sections': True, 'sideBar': True, 'skip_h1_title': False, 'title_cell': 'Lecture Topics', 'title_sidebar': 'Contents', 'toc_cell': False, 'toc_position': {}, 'toc_section_display': True, 'toc_window_display': False}\n",
      "Tags\t\t\t ['group theory', 'symmetry']\n"
     ]
    }
   ],
   "source": [
    "import nbformat\n",
    "\n",
    "# Open the notebook file\n",
    "with open(\"L21.ipynb\", \"r\") as f:\n",
    "    nb = nbformat.read(f, as_version=4)\n",
    "\n",
    "# Access the metadata and print a formatted table\n",
    "metadata = nb.metadata\n",
    "# Print custom metadata table\n",
    "print(\"Metadata for the notebook:\")\n",
    "print(\" \")\n",
    "print(\"Item\\t\\t\\tValue\")\n",
    "print(\"----\\t\\t\\t-----\")\n",
    "print(\"Name\\t\\t\\t\",metadata['name'])\n",
    "print(\"Date\\t\\t\\t\",metadata['date'])\n",
    "print(\"Week\\t\\t\\t\",metadata['week'])\n",
    "print(\"Lecture Number\\t\\t\",metadata['lectureNum'])\n",
    "print(\"Authors\\t\\t\\t\",metadata['authors'])\n",
    "print(\"Institution\\t\\t\",metadata['institution'])\n",
    "print(\"Course\\t\\t\\t\",metadata['course'])\n",
    "print(\"License\\t\\t\\t\",metadata['license'])\n",
    "print(\"Language Info\\t\\t\",metadata['language_info'])\n",
    "print(\"Kernelspec\\t\\t\",metadata['kernelspec'])\n",
    "print(\"Table of Contents\\t\",metadata['toc'])\n",
    "print(\"Tags\\t\\t\\t\",metadata['tags'])"
   ]
  },
  {
   "cell_type": "code",
   "execution_count": 10,
   "metadata": {},
   "outputs": [
    {
     "name": "stdout",
     "output_type": "stream",
     "text": [
      "CHEM224 - Jeffrey Rinehart - Fall 2023\n"
     ]
    }
   ],
   "source": [
    "import nbformat\n",
    "\n",
    "# Read the current notebook\n",
    "with open(\"L21.ipynb\", \"r\") as f:\n",
    "    notebook = nbformat.read(f, as_version=4)\n",
    "\n",
    "# Extract metadata\n",
    "metadata = notebook.metadata\n",
    "course_code = metadata.get('course', {}).get('code', 'Unknown Course')\n",
    "my_name = metadata.get('authors', {}).get('name', 'Unknown')\n",
    "course_quarter = \"Fall 2023\"  # This should be set in metadata if you want to dynamically get it\n",
    "\n",
    "# Create and print the identifier string\n",
    "identifier = f\"{course_code} - {my_name} - {course_quarter}\"\n",
    "print(identifier)"
   ]
  },
  {
   "cell_type": "markdown",
   "metadata": {},
   "source": [
    "Chem224 - Jeffrey Rinehart - Fall 2023\n",
    "\n",
    "# Week 2.1: Character Tables and Molecular Vibrational Modes\n",
    "\n",
    "Objectives\n",
    "\n",
    "1. Refamiliarize ouselves with character tables\n",
    "2. Understand symmetry representations\n",
    "   1. Irreducible Representation\n",
    "   2. Reducible Representation\n",
    "   3. Symmetry Adapted Linear Combinations\n",
    "3. Learn to use operations on representations\n",
    "      1. The Character of a Representation\n",
    "      2. The Direct Product of Representations\n",
    "      3. The Direct Sum of Representations\n",
    "      4. The Projection Operator for a Representation\n",
    "4. Form a basis for the vibrational modes of a molecule using:\n",
    "   1. Cartesian coordinates\n",
    "   2. Internal coordinates\n",
    "   3. Symmetry adapted linear combinations of internal coordinates\n",
    "5. Understand the concept of a normal mode and mixing of modes\n"
   ]
  },
  {
   "cell_type": "markdown",
   "metadata": {},
   "source": [
    "## Review of Character Tables\n",
    "\n"
   ]
  }
 ],
 "metadata": {
  "authors": {
   "email": "jrinehart@ucsd.edu",
   "name": "Jeffrey Rinehart"
  },
  "course": {
   "code": "CHEM224",
   "name": "Symmetry Methods in Inorganic Spectroscopy",
   "quarter": "Fall 2023"
  },
  "date": "2021-10-12",
  "institution": "University of California, San Diego",
  "kernelspec": {
   "display_name": "Python 3",
   "name": "python3"
  },
  "language_info": {
   "mimetype": "text/x-python",
   "name": "python",
   "version": "3.11"
  },
  "lectureNum": "2",
  "license": "MIT",
  "name": "Week 2-2: Molecular Vibrational Modes",
  "tags": [
   "group theory",
   "symmetry"
  ],
  "toc": {
   "base_numbering": 1,
   "nav_menu": {},
   "number_sections": true,
   "sideBar": true,
   "skip_h1_title": false,
   "title_cell": "Lecture Topics",
   "title_sidebar": "Contents",
   "toc_cell": false,
   "toc_position": {},
   "toc_section_display": true,
   "toc_window_display": false
  },
  "week": "2"
 },
 "nbformat": 4,
 "nbformat_minor": 2
}
