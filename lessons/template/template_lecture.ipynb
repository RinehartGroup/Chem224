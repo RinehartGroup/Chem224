{
 "cells": [
  {
   "cell_type": "markdown",
   "metadata": {},
   "source": [
    "## Chem224 - Jeffrey Rinehart - Fall 2023\n",
    "\n",
    "# Week X-Y: Lecture Title\n",
    "\n",
    "Headings will become table of cotents entries in the web page made by mkdocs.  The first heading is the title of the page.\n",
    "\n",
    "Note that HTML tags don't work with pandoc when converting to PDF, but they do work in the notebook and when converting to HTML for the web page. Avoid using them except for the special case of images (see below). \n",
    "\n",
    "<h3>Content within HTML tags are skipped by pandoc when converting to PDF, but properly formatted in web pages created using mkdocs</h3>\n",
    "\n",
    "Objectives\n",
    "\n",
    "1. *Understand objectives*\n",
    "2. *Learn material*"
   ]
  },
  {
   "cell_type": "code",
   "execution_count": 1,
   "metadata": {},
   "outputs": [],
   "source": [
    "import chem224"
   ]
  },
  {
   "cell_type": "markdown",
   "metadata": {},
   "source": [
    "# 1 Section Headings\n",
    "\n",
    "Check out the table of contents on the right of the page. `#` is the largest heading.\n",
    "\n",
    "## 1.1 Subsection Headings\n",
    "\n",
    "`##` makes a subsection heading.\n",
    "\n",
    "### 1.1.1 Subsubsection Headings\n",
    "\n",
    "`###` makes a subsubsection heading.\n",
    "\n",
    "#### Subsubsubsection Headings\n",
    "\n",
    "At `####`, text is now just bolded. It still gets a listing in the table of contents on the right.\n"
   ]
  },
  {
   "cell_type": "markdown",
   "metadata": {},
   "source": [
    "# LaTeX\n",
    "\n",
    "## In line LaTeX\n",
    "\n",
    "- In line LaTeX is surrounded by single dollar signs, e.g. `$\\frac{1}{2}$` becomes $\\frac{1}{2}$.\n",
    "- Spaces between the dollar signs and the LaTeX, e.g. `$ \\frac{1}{2} $` cause errors in some tools (though they appear to be ok in the Jupyter notebook itself and the web page).\n",
    "\n",
    "## Block LaTeX\n",
    "\n",
    "- Block LaTeX is surrounded by double dollar signs, e.g. `$$\\frac{1}{2}$$` becomes $$\\frac{1}{2}$$\n",
    "- This also works for multi-line LaTeX, e.g.\n",
    "\n",
    "    ```latex\n",
    "    $$\n",
    "    | \\psi \\rangle = \\begin{pmatrix}\n",
    "        a_1 \\\\\n",
    "        a_2 \\\\\n",
    "        \\vdots \\\\\n",
    "        a_n\n",
    "    \\end{pmatrix}\n",
    "    $$\n",
    "    ```\n",
    "\n",
    "    becomes\n",
    "\n",
    "    $$\n",
    "    | \\psi \\rangle = \\begin{pmatrix}\n",
    "        a_1 \\\\\n",
    "        a_2 \\\\\n",
    "        \\vdots \\\\\n",
    "        a_n\n",
    "    \\end{pmatrix}\n",
    "    $$"
   ]
  },
  {
   "cell_type": "markdown",
   "metadata": {},
   "source": [
    "# Images\n",
    "\n",
    "All images must be placed in the docs/images/ directory.\n",
    "\n",
    "Markdown image formatting works but gives you no control over the size of the image. To control the size, use HTML formatting.\n",
    "\n",
    "```HTML\n",
    "<div align=\"center\">\n",
    "  <img src=\"../../docs/images/Capture.PNG\" alt=\"XPS\" style=\"height:10cm;\">\n",
    "</div>\n",
    "```\n",
    "\n",
    "produces\n",
    "\n",
    "<div align=\"center\">\n",
    "  <img src=\"../../docs/images/Capture.PNG\" alt=\"XPS\" style=\"height:10cm;\">\n",
    "</div>\n",
    "\n",
    "The `generate-webpage` script will adjust the image path as needed. Due to link handling in mkdocs, the imgage won't be viewable in the notebook in the doct/lessons/ directory, but it will be viewable in the web page.\n"
   ]
  },
  {
   "cell_type": "markdown",
   "metadata": {},
   "source": [
    "# Code\n",
    "\n",
    "## Code Blocks\n",
    "\n",
    "Here's a code block. The web page will show this as code with syntax highlighting (make sure you denote the language in the opening code block tag).\n",
    "\n",
    "```python\n",
    "def add(a, b):\n",
    "    return a + b\n",
    "```"
   ]
  },
  {
   "cell_type": "markdown",
   "metadata": {},
   "source": [
    "# Using Content from Resources (json files)\n",
    "\n",
    "The json files in the docs/resources directory are meant for elements that are likely to be used in multiple notebooks and/or can be used to make standalone web pages.\n",
    "\n",
    "## equations.json\n",
    "\n",
    "### Inserting Equations Into a Notebook\n",
    "\n",
    "When making a lesson in the main lessons directory (i.e., not the docs directory), you can use the function `insert_equation()` to insert a markdown-formatted equation from the equations.json file. The function takes one required and two optional arguments: the only required argument is the name of the equation; optionally, you can also give the heading level of the equation (the number of `#`s), and the another path to a json file (it's unlikely you'll need this).\n",
    "\n",
    "The following cell is a code cell in the original notebook with the following code:\n",
    "\n",
    "```python\n",
    "chem224.insert_equation(\"inner product\", heading_level=4)\n",
    "```"
   ]
  },
  {
   "cell_type": "code",
   "execution_count": 2,
   "metadata": {},
   "outputs": [
    {
     "data": {
      "text/markdown": [
       "#### Inner Product\n",
       "\n",
       "$$\\langle \\phi | \\psi \\rangle = \\sum_{i=1}^{n} a_i^* b_i$$\n",
       "\n",
       "- $\\psi$: a wavefunction describing a quantum state\n",
       "- $\\phi$: the conjugate of $\\psi$ or another wavefunction describing a quantum state\n",
       "\n",
       "It's akin to the dot product in classical vector spaces but is way more general and powerful. Because it can essentially take the very complicated spaces of wavefunctions and linearize them - making any solution to the Schrödinger equation a vector in the Hilbert space (i.e a linear combination of some orthonormalized basis vectors) ([Wikipedia](https://en.wikipedia.org/wiki/Inner_product_space))\n"
      ],
      "text/plain": [
       "<IPython.core.display.Markdown object>"
      ]
     },
     "execution_count": 2,
     "metadata": {},
     "output_type": "execute_result"
    }
   ],
   "source": [
    "chem224.insert_equation(\"inner product\", heading_level=4)"
   ]
  },
  {
   "cell_type": "markdown",
   "metadata": {},
   "source": [
    "If you're reading this on the website, the code cell will have been changed to a markdown cell (this happens when running the `generate-webpage` script).\n",
    "\n",
    "> NOTE  \n",
    "> The code cell containing the `chem224.insert_equation()` function will be entirely replaced with a markdown cell in the webpage notebook, so make sure that is the only content in the cell."
   ]
  },
  {
   "cell_type": "markdown",
   "metadata": {},
   "source": [
    "### Making the Equations Webpage\n",
    "\n",
    "The `generate-equations-webpage` script will take the equations.json file and make a webpage with an alphabetical list of all the equations on [a dedicated page](../../equations)."
   ]
  },
  {
   "cell_type": "markdown",
   "metadata": {},
   "source": [
    "### Linking to Equations\n",
    "\n",
    "Within markdown cells, you can link to an equation on the Equations page using the formatting @EQ: equation name@. For example, @FQ: inner product@ (where FQ should actually be EQ because I have no other way to show the example text in the webpage without converting it) will link to the @EQ: inner product@ equation. Markdown formatting doesn't appear to work on the webpage, e.g. **@FQ: outer product@** --> **@EQ: outer product@**, but HTML formatting does, e.g. <b>@FQ: outer product@</b> --> <b>@EQ: outer product@</b>."
   ]
  },
  {
   "cell_type": "markdown",
   "metadata": {},
   "source": [
    "# Making the Web Page\n",
    "\n",
    "Run the script `generate-webpage <notebook name>` to convert the notebook in the root lessons/ directory to a mkdocs-compatible notebook in the docs/lessons/ directory, e.g. running from the root directory for this notebook looks like this: \n",
    "\n",
    "```\n",
    "generate-webpage .\\lessons\\template\\template_lecture.ipynb\n",
    "```"
   ]
  }
 ],
 "metadata": {
  "date": "2023-9-28",
  "kernelspec": {
   "display_name": "Python 3 (ipykernel)",
   "language": "python",
   "name": "python3"
  },
  "language_info": {
   "codemirror_mode": {
    "name": "ipython",
    "version": 3
   },
   "file_extension": ".py",
   "mimetype": "text/x-python",
   "name": "python",
   "nbconvert_exporter": "python",
   "pygments_lexer": "ipython3",
   "version": "3.11.0"
  },
  "title": "L01"
 },
 "nbformat": 4,
 "nbformat_minor": 4
}
