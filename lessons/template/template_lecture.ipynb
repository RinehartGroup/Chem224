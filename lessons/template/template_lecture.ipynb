{
 "cells": [
  {
   "cell_type": "markdown",
   "metadata": {},
   "source": [
    "## Chem224 - Jeffrey Rinehart - Fall 2023\n",
    "\n",
    "# Week X-Y: Lecture Title\n",
    "\n",
    "Headings will become table of cotents entries in the web page made by mkdocs.  The first heading is the title of the page.\n",
    "\n",
    "Note that HTML tags don't work with pandoc when converting to PDF, but they do work in the notebook and when converting to HTML for the web page. Avoid using them except for the special case of images (see below). \n",
    "\n",
    "<h3>Content within HTML tags are skipped by pandoc when converting to PDF, but properly formatted in web pages created using mkdocs</h3>\n",
    "\n",
    "Objectives\n",
    "\n",
    "1. *Understand objectives*\n",
    "2. *Learn material*"
   ]
  },
  {
   "cell_type": "markdown",
   "metadata": {},
   "source": [
    "# 1 Section Headings\n",
    "\n",
    "`#` is the largest heading.\n",
    "\n",
    "## 1.1 Subsection Headings\n",
    "\n",
    "`##` makes a subsection heading.\n",
    "\n",
    "### 1.1.1 Subsubsection Headings\n",
    "\n",
    "`###` makes a subsubsection heading.\n",
    "\n",
    "#### Subsubsubsection Headings\n",
    "\n",
    "At `####`, text now appears in the paragraph next to the bolded subsubsubsection heading.\n"
   ]
  },
  {
   "cell_type": "markdown",
   "metadata": {},
   "source": [
    "# LaTeX\n",
    "\n",
    "## In line LaTeX\n",
    "\n",
    "- In line LaTeX is surrounded by single dollar signs, e.g. `$\\frac{1}{2}$` becomes $\\frac{1}{2}$.\n",
    "- Spaces between the dollar signs and the LaTeX, e.g. $ \\frac{1}{2} $ cause errors in nbconvert and several other tools (though they appear to be ok in the Jupyter notebook itself and pandoc).\n",
    "\n",
    "## Block LaTeX\n",
    "\n",
    "- Block LaTeX is surrounded by double dollar signs, e.g. `$$\\frac{1}{2}$$` becomes $$\\frac{1}{2}$$\n",
    "- This also works for multi-line LaTeX, e.g.\n",
    "\n",
    "    ```latex\n",
    "    $$\n",
    "    | \\psi \\rangle = \\begin{pmatrix}\n",
    "        a_1 \\\\\n",
    "        a_2 \\\\\n",
    "        \\vdots \\\\\n",
    "        a_n\n",
    "    \\end{pmatrix}\n",
    "    $$\n",
    "    ```\n",
    "\n",
    "    becomes\n",
    "\n",
    "    $$\n",
    "    | \\psi \\rangle = \\begin{pmatrix}\n",
    "        a_1 \\\\\n",
    "        a_2 \\\\\n",
    "        \\vdots \\\\\n",
    "        a_n\n",
    "    \\end{pmatrix}\n",
    "    $$"
   ]
  },
  {
   "cell_type": "markdown",
   "metadata": {},
   "source": [
    "# Images\n",
    "\n",
    "Images require some special handling to work in all situatios -- notebook, pdf, and webpage.\n",
    "\n",
    "Markdown image insertion is done with `![alt text](path/to/image.png)`, but it doesn't allow for resizing of the image, so I don't recommend it.\n",
    "\n",
    "HTML works for the notebook and webpage but not the pdf conversion. Insert images using HTML and the pdf conversion script will first convert the HTML to LaTeX (LaTeX image insertion doesn't work within the notebook itself, but works with pandoc for pdf conversion).\n",
    "\n",
    "## Images in Different Directories\n",
    "\n",
    "```HTML\n",
    "<div align=\"center\">\n",
    "  <img src=\"../../images/Capture.PNG\" alt=\"XPS\" style=\"height:8cm;\">\n",
    "</div>\n",
    "```\n",
    "\n",
    "produces\n",
    "\n",
    "<div align=\"center\">\n",
    "  <img src=\"../../images/Capture.PNG\" alt=\"XPS\" style=\"height:8cm;\">\n",
    "</div>\n",
    "\n",
    "The generate_pdfs.py script will covert the above to the followig LaTeX:\n",
    "\n",
    "```LaTeX\n",
    "$\\includegraphics[height=8cm]{../../images/Capture.PNG}$\n",
    "```\n",
    "\n",
    "## Images in the Same Directory\n",
    "\n",
    "```HTML\n",
    "<div align=\"center\">\n",
    "  <img src=\"Capture.PNG\" alt=\"XPS\" style=\"height:8cm;\">\n",
    "</div>\n",
    "```\n",
    "\n",
    "produces\n",
    "\n",
    "<div align=\"center\">\n",
    "  <img src=\"Capture.PNG\" alt=\"XPS\" style=\"height:8cm;\">\n",
    "</div>\n"
   ]
  },
  {
   "cell_type": "markdown",
   "metadata": {},
   "source": [
    "# Code\n",
    "\n",
    "## Code Blocks\n",
    "\n",
    "Here's a code block. The pdf will show this as code with syntax highlighting (make sure you denote the language in the opening code block tag). The web page formatting will be slightly nicer.\n",
    "\n",
    "```python\n",
    "def add(a, b):\n",
    "    return a + b\n",
    "```\n",
    "\n",
    "## Formatting of Code Output with Markdown/LaTeX\n",
    "\n",
    "There doesn't appear to be an existing way to format a code cell output which contains markdown/LaTeX when converted to pdf.\n",
    "\n",
    "Here's what it looks like when a function returns markdown that includes LaTeX."
   ]
  },
  {
   "cell_type": "code",
   "execution_count": 1,
   "metadata": {},
   "outputs": [],
   "source": [
    "def markdown_output() -> str:\n",
    "    \"\"\"Returns a LaTeX formatted equation\"\"\"\n",
    "    return r\"**Equation**: $f(x) = x^2$\""
   ]
  },
  {
   "cell_type": "code",
   "execution_count": 2,
   "metadata": {},
   "outputs": [
    {
     "data": {
      "text/plain": [
       "'**Equation**: $f(x) = x^2$'"
      ]
     },
     "execution_count": 2,
     "metadata": {},
     "output_type": "execute_result"
    }
   ],
   "source": [
    "markdown_output()"
   ]
  },
  {
   "cell_type": "code",
   "execution_count": 3,
   "metadata": {},
   "outputs": [
    {
     "name": "stdout",
     "output_type": "stream",
     "text": [
      "**Equation**: $f(x) = x^2$\n"
     ]
    }
   ],
   "source": [
    "print(markdown_output())"
   ]
  },
  {
   "cell_type": "markdown",
   "metadata": {},
   "source": [
    "The cell output can be formatted within the notebook itself, but when converting to pdf it will just show the object type."
   ]
  },
  {
   "cell_type": "code",
   "execution_count": 4,
   "metadata": {},
   "outputs": [
    {
     "data": {
      "text/markdown": [
       "**Equation**: $f(x) = x^2$"
      ],
      "text/plain": [
       "<IPython.core.display.Markdown object>"
      ]
     },
     "execution_count": 4,
     "metadata": {},
     "output_type": "execute_result"
    }
   ],
   "source": [
    "from IPython.display import Markdown\n",
    "\n",
    "md = Markdown(markdown_output())\n",
    "md"
   ]
  },
  {
   "cell_type": "markdown",
   "metadata": {},
   "source": [
    "There might be a way to do this manually within the generate_pdfs.py script."
   ]
  },
  {
   "cell_type": "markdown",
   "metadata": {},
   "source": [
    "# Links\n",
    "\n",
    "Use markdown-style linking and the generate_pdfs.py script will convert it to LaTeX-style linking for the pdf conversion.\n",
    "\n",
    "For example, `[link text](https://www.google.com)` becomes [link text](https://www.google.com).\n"
   ]
  },
  {
   "cell_type": "markdown",
   "metadata": {},
   "source": [
    "# Required Software\n",
    "\n",
    "- A LaTeX distribution -- I'm using [TeX Live](https://www.tug.org/texlive/), but other LaTeX distributions may work as well.\n",
    "- [Pandoc](https://pandoc.org/), which is used to convert the notebook to a pdf.\n"
   ]
  }
 ],
 "metadata": {
  "date": "2023-9-28",
  "kernelspec": {
   "display_name": "Python 3 (ipykernel)",
   "language": "python",
   "name": "python3"
  },
  "language_info": {
   "codemirror_mode": {
    "name": "ipython",
    "version": 3
   },
   "file_extension": ".py",
   "mimetype": "text/x-python",
   "name": "python",
   "nbconvert_exporter": "python",
   "pygments_lexer": "ipython3",
   "version": "3.11.0"
  },
  "title": "L01"
 },
 "nbformat": 4,
 "nbformat_minor": 4
}
