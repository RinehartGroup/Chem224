{
 "cells": [
  {
   "cell_type": "markdown",
   "metadata": {},
   "source": [
    "Chem224 - Jeffrey Rinehart - Fall 2023\n",
    "\n",
    "Week X-Y: Lecture Title\n",
    "\n",
    "Text that you put up here will be unformatted and not part of any section or subsection.\n",
    "\n",
    "<h2>HTML tags are ignored by nbconvert when converting to PDF</h2>\n",
    "\n",
    "This means they don't count toward the outline section numbering. They will be properly formatted by nbconvert when converting to HTML. TDB how mkdocs will handle them.\n",
    "\n",
    "## Title and Date\n",
    "\n",
    "nbconvert makes the title and date from the metadata in the ipynb file. If there is no metadata, the file name becomes the title an the current date is used. \n",
    "\n",
    "To edit the .ipynb file metadata, open in a text editor (or right click on the file in VS Code, select \"Open with\", then select the built in text editor). There should be a top-level field called \"metadata\" (note: not the \"metadata\" field in each of the \"cells\" objects). Edit or add the \"title\" and \"date\" fields, e.g.\n",
    "\n",
    "```json\n",
    " \"metadata\": {\n",
    "  \"title\": \"Template Lecture\",\n",
    "  \"date\": \"2023-9-29\",\n",
    "  ...\n",
    " }\n",
    "```\n",
    "\n",
    "## Adding subheadings prior to the first main heading\n",
    "\n",
    "With nbconvert, subheadings (lines starting with more than one `#`) get formatted as subsections of section 0.\n",
    "\n",
    "Objectives\n",
    "\n",
    "1. *Understand objectives*\n",
    "2. *Learn material*"
   ]
  },
  {
   "cell_type": "markdown",
   "metadata": {},
   "source": [
    "# Section Headings\n",
    "\n",
    "`#` makes an automatically numbered section heading.\n",
    "\n",
    "## Subsection Headings\n",
    "\n",
    "`##` makes an automatically numbered subsection heading.\n",
    "\n",
    "### Subsubsection Headings\n",
    "\n",
    "`###` makes an automatically numbered subsubsection heading.\n",
    "\n",
    "#### Subsubsubsection Headings\n",
    "\n",
    "Numbering stops at `####`. The text of these sections appear to the right of the bolded subsubsubsection heading rather than having a line break.\n"
   ]
  },
  {
   "cell_type": "markdown",
   "metadata": {},
   "source": [
    "# LaTeX\n",
    "\n",
    "## In line LaTeX\n",
    "\n",
    "- In line LaTeX is surrounded by single dollar signs, e.g. `$\\frac{1}{2}$` becomes $\\frac{1}{2}$.\n",
    "- Spaces between the dollar signs and the LaTeX, e.g. `$ \\frac{1}{2} $` cause errors in nbconvert.\n",
    "\n",
    "## Block LaTeX\n",
    "\n",
    "- Block LaTeX is surrounded by double dollar signs, e.g. `$$\\frac{1}{2}$$` becomes $$\\frac{1}{2}$$\n",
    "- This also works for multi-line LaTeX, e.g.\n",
    "\n",
    "    ```latex\n",
    "    $$\n",
    "    | \\psi \\rangle = \\begin{pmatrix}\n",
    "        a_1 \\\\\n",
    "        a_2 \\\\\n",
    "        \\vdots \\\\\n",
    "        a_n\n",
    "    \\end{pmatrix}\n",
    "    $$\n",
    "    ```\n",
    "\n",
    "    becomes\n",
    "\n",
    "    $$\n",
    "    | \\psi \\rangle = \\begin{pmatrix}\n",
    "        a_1 \\\\\n",
    "        a_2 \\\\\n",
    "        \\vdots \\\\\n",
    "        a_n\n",
    "    \\end{pmatrix}\n",
    "    $$"
   ]
  },
  {
   "cell_type": "markdown",
   "metadata": {},
   "source": [
    "# Images\n",
    "\n",
    "## Images in Different Directories\n",
    "I'm having trouble getting images to show in the pdfs or html pages created by nbconvert. Inserting images using the `![]()` syntax and relative paths works fine for the notebook running in VS Code, but produces broken pdfs with nbconvert. The html files from nbconvert and mkdocs pages work fine with relative paths.\n",
    "\n",
    "`![XPS](../../images/Capture.PNG)` works in the notebook and with mkdocs, but not nbconert pdf files.\n",
    "\n",
    "Does HTML work?\n",
    "\n",
    "<div align=\"center\">\n",
    "  <img src=\"../../images/Capture.PNG\" alt=\"XPS\" style=\"height:200px;\">\n",
    "</div>\n",
    "\n",
    "## Images in the Same Directory\n",
    "\n",
    "`![XPS](Capture.PNG)`"
   ]
  },
  {
   "cell_type": "markdown",
   "metadata": {},
   "source": [
    "# Code\n",
    "\n",
    "TODO\n",
    "\n",
    "# nbconvert\n",
    "\n",
    "TODO\n",
    "\n",
    "# pandoc\n",
    "\n",
    "TODO"
   ]
  },
  {
   "cell_type": "markdown",
   "metadata": {},
   "source": []
  }
 ],
 "metadata": {
  "date": "2023-9-28",
  "kernelspec": {
   "display_name": ".chem224",
   "language": "python",
   "name": "python3"
  },
  "language_info": {
   "name": "python",
   "version": "3.11.0"
  },
  "orig_nbformat": 4,
  "title": "L01"
 },
 "nbformat": 4,
 "nbformat_minor": 2
}
